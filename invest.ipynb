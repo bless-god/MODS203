{
  "nbformat": 4,
  "nbformat_minor": 0,
  "metadata": {
    "colab": {
      "name": "invest",
      "provenance": [],
      "collapsed_sections": [],
      "include_colab_link": true
    },
    "kernelspec": {
      "name": "python3",
      "display_name": "Python 3"
    },
    "language_info": {
      "name": "python"
    }
  },
  "cells": [
    {
      "cell_type": "markdown",
      "metadata": {
        "id": "view-in-github",
        "colab_type": "text"
      },
      "source": [
        "<a href=\"https://colab.research.google.com/github/bless-god/MODS203/blob/main/invest.ipynb\" target=\"_parent\"><img src=\"https://colab.research.google.com/assets/colab-badge.svg\" alt=\"Open In Colab\"/></a>"
      ]
    },
    {
      "cell_type": "code",
      "metadata": {
        "id": "NhTXF7f6IP6A"
      },
      "source": [
        "from scipy.optimize import minimize\n",
        "import numpy as np\n",
        "import pandas as pd"
      ],
      "execution_count": 1,
      "outputs": []
    },
    {
      "cell_type": "code",
      "metadata": {
        "colab": {
          "base_uri": "https://localhost:8080/"
        },
        "id": "nEsnHETXIIt2",
        "outputId": "5ee69ac2-7323-4035-f1b3-19f5aca7ac56"
      },
      "source": [
        "!pip install pyomo\n",
        "from pyomo.environ import *\n",
        "from pyomo.gdp import *"
      ],
      "execution_count": null,
      "outputs": [
        {
          "output_type": "stream",
          "text": [
            "Collecting pyomo\n",
            "\u001b[?25l  Downloading https://files.pythonhosted.org/packages/84/03/2ae441aadf8f558cdefabc68968ee308a15780a98a26b18f8fec058d64bc/Pyomo-6.0-cp37-cp37m-manylinux_2_5_x86_64.manylinux1_x86_64.manylinux_2_12_x86_64.manylinux2010_x86_64.whl (8.9MB)\n",
            "\u001b[K     |████████████████████████████████| 8.9MB 33.9MB/s \n",
            "\u001b[?25hCollecting ply\n",
            "\u001b[?25l  Downloading https://files.pythonhosted.org/packages/a3/58/35da89ee790598a0700ea49b2a66594140f44dec458c07e8e3d4979137fc/ply-3.11-py2.py3-none-any.whl (49kB)\n",
            "\u001b[K     |████████████████████████████████| 51kB 6.5MB/s \n",
            "\u001b[?25hInstalling collected packages: ply, pyomo\n",
            "Successfully installed ply-3.11 pyomo-6.0\n"
          ],
          "name": "stdout"
        }
      ]
    },
    {
      "cell_type": "code",
      "metadata": {
        "colab": {
          "base_uri": "https://localhost:8080/"
        },
        "id": "XgbYzn2yjaVH",
        "outputId": "7ef186e4-2e21-43c7-b71f-901ce9bd6c64"
      },
      "source": [
        "!apt-get install -y -qq glpk-utils"
      ],
      "execution_count": null,
      "outputs": [
        {
          "output_type": "stream",
          "text": [
            "Selecting previously unselected package libsuitesparseconfig5:amd64.\n",
            "(Reading database ... 160706 files and directories currently installed.)\n",
            "Preparing to unpack .../libsuitesparseconfig5_1%3a5.1.2-2_amd64.deb ...\n",
            "Unpacking libsuitesparseconfig5:amd64 (1:5.1.2-2) ...\n",
            "Selecting previously unselected package libamd2:amd64.\n",
            "Preparing to unpack .../libamd2_1%3a5.1.2-2_amd64.deb ...\n",
            "Unpacking libamd2:amd64 (1:5.1.2-2) ...\n",
            "Selecting previously unselected package libcolamd2:amd64.\n",
            "Preparing to unpack .../libcolamd2_1%3a5.1.2-2_amd64.deb ...\n",
            "Unpacking libcolamd2:amd64 (1:5.1.2-2) ...\n",
            "Selecting previously unselected package libglpk40:amd64.\n",
            "Preparing to unpack .../libglpk40_4.65-1_amd64.deb ...\n",
            "Unpacking libglpk40:amd64 (4.65-1) ...\n",
            "Selecting previously unselected package glpk-utils.\n",
            "Preparing to unpack .../glpk-utils_4.65-1_amd64.deb ...\n",
            "Unpacking glpk-utils (4.65-1) ...\n",
            "Setting up libsuitesparseconfig5:amd64 (1:5.1.2-2) ...\n",
            "Setting up libcolamd2:amd64 (1:5.1.2-2) ...\n",
            "Setting up libamd2:amd64 (1:5.1.2-2) ...\n",
            "Setting up libglpk40:amd64 (4.65-1) ...\n",
            "Setting up glpk-utils (4.65-1) ...\n",
            "Processing triggers for libc-bin (2.27-3ubuntu1.2) ...\n",
            "/sbin/ldconfig.real: /usr/local/lib/python3.7/dist-packages/ideep4py/lib/libmkldnn.so.0 is not a symbolic link\n",
            "\n",
            "Processing triggers for man-db (2.8.3-2ubuntu0.1) ...\n"
          ],
          "name": "stdout"
        }
      ]
    },
    {
      "cell_type": "code",
      "metadata": {
        "colab": {
          "base_uri": "https://localhost:8080/"
        },
        "id": "zma_vDL-TNgG",
        "outputId": "6a091661-79aa-43e4-ad68-cf947dc7d062"
      },
      "source": [
        "#executable='/usr/bin/glpsol'\n",
        "opt = SolverFactory('glpk', executable='/usr/bin/glpsol')\n",
        "opt.solve(m)"
      ],
      "execution_count": null,
      "outputs": [
        {
          "output_type": "stream",
          "text": [
            "WARNING: Constant objective detected, replacing with a placeholder to prevent\n",
            "    solver failure.\n",
            "WARNING: Empty constraint block written in LP format - solver may error\n"
          ],
          "name": "stdout"
        },
        {
          "output_type": "execute_result",
          "data": {
            "text/plain": [
              "{'Problem': [{'Name': 'unknown', 'Lower bound': 3.74165738677394, 'Upper bound': 3.74165738677394, 'Number of objectives': 1, 'Number of constraints': 1, 'Number of variables': 1, 'Number of nonzeros': 1, 'Sense': 'minimize'}], 'Solver': [{'Status': 'ok', 'Termination condition': 'optimal', 'Statistics': {'Branch and bound': {'Number of bounded subproblems': 0, 'Number of created subproblems': 0}}, 'Error rc': 0, 'Time': 0.019949674606323242}], 'Solution': [OrderedDict([('number of solutions', 0), ('number of solutions displayed', 0)])]}"
            ]
          },
          "metadata": {
            "tags": []
          },
          "execution_count": 137
        }
      ]
    },
    {
      "cell_type": "code",
      "metadata": {
        "id": "fTC-WVJrISDe"
      },
      "source": [
        "input = {\n",
        "  \"amountDecimalPrecision\": \"2\",\n",
        "  \"unitDecimalPrecision\": \"5\",\n",
        "  \"volatilityBuffer\": \"0.1\",\n",
        "  \"goals\": [\n",
        "    {\n",
        "      \"goalId\": \"123\",\n",
        "      \"goalDetails\": [\n",
        "        {\n",
        "          \"ticker\": \"VTI\",\n",
        "          \"units\": \"5.01636\",\n",
        "          \"marketPrice\": \"141.81\",\n",
        "          \"value\": \"711.37\",\n",
        "          \"minInitialInvestmentAmt\": \"5\",\n",
        "          \"minInitialInvestmentUnits\": \"0.00001\",\n",
        "          \"minTopupAmt\": \"5\",\n",
        "          \"minTopupUnits\": \"0.00001\",\n",
        "          \"minRedemptionAmt\": \"5\",\n",
        "          \"minRedemptionUnits\": \"0.00001\",\n",
        "          \"minHoldingAmt\": \"5\",\n",
        "          \"minHoldingUnits\": \"0.00001\",\n",
        "          \"contributionFee\": \"0\"\n",
        "        },\n",
        "        {\n",
        "          \"ticker\": \"DGRO\",\n",
        "          \"units\": \"17.24309\",\n",
        "          \"marketPrice\": \"35.36\",\n",
        "          \"value\": \"609.72\",\n",
        "          \"minInitialInvestmentAmt\": \"5\",\n",
        "          \"minInitialInvestmentUnits\": \"0.00001\",\n",
        "          \"minTopupAmt\": \"5\",\n",
        "          \"minTopupUnits\": \"0.00001\",\n",
        "          \"minRedemptionAmt\": \"5\",\n",
        "          \"minRedemptionUnits\": \"0.00001\",\n",
        "          \"minHoldingAmt\": \"5\",\n",
        "          \"minHoldingUnits\": \"0.00001\",\n",
        "          \"contributionFee\": \"0\"\n",
        "        },\n",
        "        {\n",
        "          \"ticker\": \"IWP\",\n",
        "          \"units\": \"0.49134\",\n",
        "          \"marketPrice\": \"136.75\",\n",
        "          \"value\": \"67.19\",\n",
        "          \"minInitialInvestmentAmt\": \"5\",\n",
        "          \"minInitialInvestmentUnits\": \"0.00001\",\n",
        "          \"minTopupAmt\": \"5\",\n",
        "          \"minTopupUnits\": \"0.00001\",\n",
        "          \"minRedemptionAmt\": \"5\",\n",
        "          \"minRedemptionUnits\": \"0.00001\",\n",
        "          \"minHoldingAmt\": \"5\",\n",
        "          \"minHoldingUnits\": \"0.00001\",\n",
        "          \"contributionFee\": \"0\"\n",
        "        },\n",
        "        {\n",
        "          \"ticker\": \"VWO\",\n",
        "          \"units\": \"1.92159\",\n",
        "          \"marketPrice\": \"34.96\",\n",
        "          \"value\": \"67.18\",\n",
        "          \"minInitialInvestmentAmt\": \"5\",\n",
        "          \"minInitialInvestmentUnits\": \"0.00001\",\n",
        "          \"minTopupAmt\": \"5\",\n",
        "          \"minTopupUnits\": \"0.00001\",\n",
        "          \"minRedemptionAmt\": \"5\",\n",
        "          \"minRedemptionUnits\": \"0.00001\",\n",
        "          \"minHoldingAmt\": \"5\",\n",
        "          \"minHoldingUnits\": \"0.00001\",\n",
        "          \"contributionFee\": \"0\"\n",
        "        },\n",
        "        {\n",
        "          \"ticker\": \"IVW\",\n",
        "          \"units\": \"0.36160\",\n",
        "          \"marketPrice\": \"183.70\",\n",
        "          \"value\": \"66.43\",\n",
        "          \"minInitialInvestmentAmt\": \"5\",\n",
        "          \"minInitialInvestmentUnits\": \"0.00001\",\n",
        "          \"minTopupAmt\": \"5\",\n",
        "          \"minTopupUnits\": \"0.00001\",\n",
        "          \"minRedemptionAmt\": \"5\",\n",
        "          \"minRedemptionUnits\": \"0.00001\",\n",
        "          \"minHoldingAmt\": \"5\",\n",
        "          \"minHoldingUnits\": \"0.00001\",\n",
        "          \"contributionFee\": \"0\"\n",
        "        },\n",
        "        {\n",
        "          \"ticker\": \"EFAV\",\n",
        "          \"units\": \"4.45741\",\n",
        "          \"marketPrice\": \"63.51\",\n",
        "          \"value\": \"283.09\",\n",
        "          \"minInitialInvestmentAmt\": \"5\",\n",
        "          \"minInitialInvestmentUnits\": \"0.00001\",\n",
        "          \"minTopupAmt\": \"5\",\n",
        "          \"minTopupUnits\": \"0.00001\",\n",
        "          \"minRedemptionAmt\": \"5\",\n",
        "          \"minRedemptionUnits\": \"0.00001\",\n",
        "          \"minHoldingAmt\": \"5\",\n",
        "          \"minHoldingUnits\": \"0.00001\",\n",
        "          \"contributionFee\": \"0\"\n",
        "        },\n",
        "        {\n",
        "          \"ticker\": \"AGG\",\n",
        "          \"units\": \"2.535\",\n",
        "          \"marketPrice\": \"116.87\",\n",
        "          \"value\": \"296.27\",\n",
        "          \"minInitialInvestmentAmt\": \"5\",\n",
        "          \"minInitialInvestmentUnits\": \"0.00001\",\n",
        "          \"minTopupAmt\": \"5\",\n",
        "          \"minTopupUnits\": \"0.00001\",\n",
        "          \"minRedemptionAmt\": \"5\",\n",
        "          \"minRedemptionUnits\": \"0.00001\",\n",
        "          \"minHoldingAmt\": \"5\",\n",
        "          \"minHoldingUnits\": \"0.00001\",\n",
        "          \"contributionFee\": \"0\"\n",
        "        },\n",
        "        {\n",
        "          \"ticker\": \"MUB\",\n",
        "          \"units\": \"5.04488\",\n",
        "          \"marketPrice\": \"111.57\",\n",
        "          \"value\": \"562.86\",\n",
        "          \"minInitialInvestmentAmt\": \"5\",\n",
        "          \"minInitialInvestmentUnits\": \"0.00001\",\n",
        "          \"minTopupAmt\": \"5\",\n",
        "          \"minTopupUnits\": \"0.00001\",\n",
        "          \"minRedemptionAmt\": \"5\",\n",
        "          \"minRedemptionUnits\": \"0.00001\",\n",
        "          \"minHoldingAmt\": \"5\",\n",
        "          \"minHoldingUnits\": \"0.00001\",\n",
        "          \"contributionFee\": \"0\"\n",
        "        },\n",
        "        {\n",
        "          \"ticker\": \"PNQI\",\n",
        "          \"units\": \"0.00041\",\n",
        "          \"marketPrice\": \"142.05\",\n",
        "          \"value\": \"0.06\",\n",
        "          \"minInitialInvestmentAmt\": \"5\",\n",
        "          \"minInitialInvestmentUnits\": \"0.00001\",\n",
        "          \"minTopupAmt\": \"5\",\n",
        "          \"minTopupUnits\": \"0.00001\",\n",
        "          \"minRedemptionAmt\": \"5\",\n",
        "          \"minRedemptionUnits\": \"0.00001\",\n",
        "          \"minHoldingAmt\": \"5\",\n",
        "          \"minHoldingUnits\": \"0.00001\",\n",
        "          \"contributionFee\": \"0\"\n",
        "        },\n",
        "        {\n",
        "          \"ticker\": \"CASH\",\n",
        "          \"units\": \"75\",\n",
        "          \"marketPrice\": \"1\",\n",
        "          \"value\": \"75\",\n",
        "          \"minInitialInvestmentAmt\": \"0.01\",\n",
        "          \"minInitialInvestmentUnits\": \"0.01\",\n",
        "          \"minTopupAmt\": \"0.01\",\n",
        "          \"minTopupUnits\": \"0.01\",\n",
        "          \"minRedemptionAmt\": \"0.01\",\n",
        "          \"minRedemptionUnits\": \"0.01\",\n",
        "          \"minHoldingAmt\": \"0.01\",\n",
        "          \"minHoldingUnits\": \"0.01\",\n",
        "          \"contributionFee\": \"0\"\n",
        "        }\n",
        "      ],\n",
        "      \"orderAmount\": \"100\",\n",
        "      \"orderType\": \"Investment\",\n",
        "      \"modelPortfolioId\": \"MP1\",\n",
        "      \"modelPortfolioDetails\": [\n",
        "        {\n",
        "          \"ticker\": \"VTI\",\n",
        "          \"weight\": \"0.26\",\n",
        "          \"marketPrice\": \"141.81\",\n",
        "          \"minInitialInvestmentAmt\": \"5\",\n",
        "          \"minInitialInvestmentUnits\": \"0.00001\",\n",
        "          \"minTopupAmt\": \"5\",\n",
        "          \"minTopupUnits\": \"0.00001\",\n",
        "          \"minRedemptionAmt\": \"5\",\n",
        "          \"minRedemptionUnits\": \"0.00001\",\n",
        "          \"minHoldingAmt\": \"5\",\n",
        "          \"minHoldingUnits\": \"0.00001\",\n",
        "          \"contributionFee\": \"0\"\n",
        "        },\n",
        "        {\n",
        "          \"ticker\": \"DGRO\",\n",
        "          \"weight\": \"0.22\",\n",
        "          \"marketPrice\": \"35.36\",\n",
        "          \"minInitialInvestmentAmt\": \"5\",\n",
        "          \"minInitialInvestmentUnits\": \"0.00001\",\n",
        "          \"minTopupAmt\": \"5\",\n",
        "          \"minTopupUnits\": \"0.00001\",\n",
        "          \"minRedemptionAmt\": \"5\",\n",
        "          \"minRedemptionUnits\": \"0.00001\",\n",
        "          \"minHoldingAmt\": \"5\",\n",
        "          \"minHoldingUnits\": \"0.00001\",\n",
        "          \"contributionFee\": \"0\"\n",
        "        },\n",
        "        {\n",
        "          \"ticker\": \"IWP\",\n",
        "          \"weight\": \"0.03\",\n",
        "          \"marketPrice\": \"136.75\",\n",
        "          \"minInitialInvestmentAmt\": \"5\",\n",
        "          \"minInitialInvestmentUnits\": \"0.00001\",\n",
        "          \"minTopupAmt\": \"5\",\n",
        "          \"minTopupUnits\": \"0.00001\",\n",
        "          \"minRedemptionAmt\": \"5\",\n",
        "          \"minRedemptionUnits\": \"0.00001\",\n",
        "          \"minHoldingAmt\": \"5\",\n",
        "          \"minHoldingUnits\": \"0.00001\",\n",
        "          \"contributionFee\": \"0\"\n",
        "        },\n",
        "        {\n",
        "          \"ticker\": \"VWO\",\n",
        "          \"weight\": \"0.03\",\n",
        "          \"marketPrice\": \"34.96\",\n",
        "          \"minInitialInvestmentAmt\": \"5\",\n",
        "          \"minInitialInvestmentUnits\": \"0.00001\",\n",
        "          \"minTopupAmt\": \"5\",\n",
        "          \"minTopupUnits\": \"0.00001\",\n",
        "          \"minRedemptionAmt\": \"5\",\n",
        "          \"minRedemptionUnits\": \"0.00001\",\n",
        "          \"minHoldingAmt\": \"5\",\n",
        "          \"minHoldingUnits\": \"0.00001\",\n",
        "          \"contributionFee\": \"0\"\n",
        "        },\n",
        "        {\n",
        "          \"ticker\": \"IVW\",\n",
        "          \"weight\": \"0.02\",\n",
        "          \"marketPrice\": \"183.70\",\n",
        "          \"value\": \"66.43\",\n",
        "          \"minInitialInvestmentAmt\": \"5\",\n",
        "          \"minInitialInvestmentUnits\": \"0.00001\",\n",
        "          \"minTopupAmt\": \"5\",\n",
        "          \"minTopupUnits\": \"0.00001\",\n",
        "          \"minRedemptionAmt\": \"5\",\n",
        "          \"minRedemptionUnits\": \"0.00001\",\n",
        "          \"minHoldingAmt\": \"5\",\n",
        "          \"minHoldingUnits\": \"0.00001\",\n",
        "          \"contributionFee\": \"0\"\n",
        "        },\n",
        "        {\n",
        "          \"ticker\": \"EFAV\",\n",
        "          \"weight\": \"0.1\",\n",
        "          \"marketPrice\": \"63.51\",\n",
        "          \"minInitialInvestmentAmt\": \"5\",\n",
        "          \"minInitialInvestmentUnits\": \"0.00001\",\n",
        "          \"minTopupAmt\": \"5\",\n",
        "          \"minTopupUnits\": \"0.00001\",\n",
        "          \"minRedemptionAmt\": \"5\",\n",
        "          \"minRedemptionUnits\": \"0.00001\",\n",
        "          \"minHoldingAmt\": \"5\",\n",
        "          \"minHoldingUnits\": \"0.00001\",\n",
        "          \"contributionFee\": \"0\"\n",
        "        },\n",
        "        {\n",
        "          \"ticker\": \"AGG\",\n",
        "          \"weight\": \"0.11\",\n",
        "          \"marketPrice\": \"116.87\",\n",
        "          \"minInitialInvestmentAmt\": \"5\",\n",
        "          \"minInitialInvestmentUnits\": \"0.00001\",\n",
        "          \"minTopupAmt\": \"5\",\n",
        "          \"minTopupUnits\": \"0.00001\",\n",
        "          \"minRedemptionAmt\": \"5\",\n",
        "          \"minRedemptionUnits\": \"0.00001\",\n",
        "          \"minHoldingAmt\": \"5\",\n",
        "          \"minHoldingUnits\": \"0.00001\",\n",
        "          \"contributionFee\": \"0\"\n",
        "        },\n",
        "        {\n",
        "          \"ticker\": \"MUB\",\n",
        "          \"weight\": \"0.19\",\n",
        "          \"marketPrice\": \"111.57\",\n",
        "          \"minInitialInvestmentAmt\": \"5\",\n",
        "          \"minInitialInvestmentUnits\": \"0.00001\",\n",
        "          \"minTopupAmt\": \"5\",\n",
        "          \"minTopupUnits\": \"0.00001\",\n",
        "          \"minRedemptionAmt\": \"5\",\n",
        "          \"minRedemptionUnits\": \"0.00001\",\n",
        "          \"minHoldingAmt\": \"5\",\n",
        "          \"minHoldingUnits\": \"0.00001\",\n",
        "          \"contributionFee\": \"0\"\n",
        "        },\n",
        "        {\n",
        "          \"ticker\": \"PNQI\",\n",
        "          \"weight\": \"0.02\",\n",
        "          \"marketPrice\": \"142.05\",\n",
        "          \"minInitialInvestmentAmt\": \"5\",\n",
        "          \"minInitialInvestmentUnits\": \"0.00001\",\n",
        "          \"minTopupAmt\": \"5\",\n",
        "          \"minTopupUnits\": \"0.00001\",\n",
        "          \"minRedemptionAmt\": \"5\",\n",
        "          \"minRedemptionUnits\": \"0.00001\",\n",
        "          \"minHoldingAmt\": \"5\",\n",
        "          \"minHoldingUnits\": \"0.00001\",\n",
        "          \"contributionFee\": \"0\"\n",
        "        },\n",
        "        {\n",
        "          \"ticker\": \"CASH\",\n",
        "          \"weight\": \"0.02\",\n",
        "          \"marketPrice\": \"1\",\n",
        "          \"minInitialInvestmentAmt\": \"0.01\",\n",
        "          \"minInitialInvestmentUnits\": \"0.01\",\n",
        "          \"minTopupAmt\": \"0.01\",\n",
        "          \"minTopupUnits\": \"0.01\",\n",
        "          \"minRedemptionAmt\": \"0.01\",\n",
        "          \"minRedemptionUnits\": \"0.01\",\n",
        "          \"minHoldingAmt\": \"0.01\",\n",
        "          \"minHoldingUnits\": \"0.01\",\n",
        "          \"contributionFee\": \"0\"\n",
        "        }\n",
        "      ]\n",
        "    }\n",
        "  ]\n",
        "}"
      ],
      "execution_count": 22,
      "outputs": []
    },
    {
      "cell_type": "code",
      "metadata": {
        "id": "M_CoSSxh8tMt"
      },
      "source": [
        "class stock:\n",
        "  def __init__(self):\n",
        "    self.ticker = None\n",
        "    self.marketprice = None;\n",
        "    self.value = None;\n",
        "    self.units = None;\n",
        "    self.minInitialInvestmentAmt = None;\n",
        "    self.minTopupAmt = None;\n",
        "    self.minTopupUnits = None;\n",
        "    self.weight = None;\n",
        "    self.contributionFee = None;\n",
        "    self.minRedemptionAmt = None;\n",
        "    self.minRedemptionUnits = None;\n",
        "\n",
        "class portfolio:\n",
        "  def __init__(self):\n",
        "    self.ticker = None;\n",
        "    self.weight = None; # model weight: important\n",
        "    self.marketprice = None;\n",
        "    self.minInitialInvestmentAmt = None;\n",
        "\n",
        "def readStock(ticker):\n",
        "  tc = stock()\n",
        "  tc.ticker = ticker['ticker']\n",
        "  tc.marketprice = float(ticker['marketPrice'])\n",
        "  tc.units = ticker['units']\n",
        "  tc.value = float(ticker['value'])\n",
        "  tc.minTopupUnits = float(ticker['minTopupUnits'])\n",
        "  tc.minTopupAmt = float(ticker['minTopupAmt'])\n",
        "  tc.minInitialInvestmentAmt = float(ticker['minInitialInvestmentAmt'])\n",
        "  tc.contributionFee = float(ticker['contributionFee'])\n",
        "  tc.minRedemptionAmt = float(ticker['minRedemptionAmt'])\n",
        "  tc.minRedemptionUnits = float(ticker['minRedemptionUnits'])\n",
        "  return tc\n",
        "\n",
        "def readPortfolio(ptfl):\n",
        "  pf = portfolio()\n",
        "  pf.ticker = ptfl['ticker']\n",
        "  pf.marketprice = ptfl['marketPrice']\n",
        "  pf.weight = ptfl['weight']\n",
        "  pf.minInitialInvestmentAmt = ptfl['minInitialInvestmentAmt']\n",
        "\n",
        "  return pf\n",
        "\n",
        "def readPtfls(ptfls):\n",
        "  pt = []\n",
        "  for i in ptfls:\n",
        "    pt.append(readPortfolio(i))\n",
        "  return pt\n",
        "\n",
        "def readDetail(details):\n",
        "  tickers = []\n",
        "  for i in details:\n",
        "    tickers.append(readStock(i))\n",
        "  return tickers\n",
        "\n",
        "def complete(tcs, pfs):\n",
        "  for j in pfs:\n",
        "    for i in range(0, len(tcs)):\n",
        "      if tcs[i].ticker == j.ticker:\n",
        "        tcs[i].weight = j.weight\n",
        "  return tcs"
      ],
      "execution_count": 18,
      "outputs": []
    },
    {
      "cell_type": "code",
      "metadata": {
        "id": "kSaUa7F88ol0"
      },
      "source": [
        "details = input[\"goals\"][0]['goalDetails']\n",
        "ptfls = input[\"goals\"][0]['modelPortfolioDetails']\n",
        "orderAmt = float(input[\"goals\"][0]['orderAmount'])\n",
        "\n",
        "tcs = readDetail(details)\n",
        "pfs = readPtfls(ptfls)\n",
        "tcsComp = complete(tcs, pfs)"
      ],
      "execution_count": 23,
      "outputs": []
    },
    {
      "cell_type": "code",
      "metadata": {
        "id": "u1JOljo5hvDG"
      },
      "source": [
        "def investOptim(tcsComp, orderAmt, lb=True):\n",
        "  fund = np.asarray([float(i.value) for i in tcsComp]) #[spy, ivv, ...]\n",
        "  fundTotal = fund.sum() + orderAmt # total funding after topup\n",
        "  currWeight = fund / fundTotal # 0.8, 0.2\n",
        "  modelWeight = np.asarray([float(i.weight) for i in tcsComp])\n",
        "\n",
        "  deltaWeight = orderAmt / fundTotal # scalar\n",
        "\n",
        "  bnds_0 = [(0, None) for i in tcsComp]\n",
        "  bnds = [(0, None) for i in tcsComp]\n",
        "  if lb:\n",
        "    bnds = [(np.max([i.minTopupAmt, i.marketprice * i.minTopupUnits, i.minInitialInvestmentAmt * (i.value==0)]) \n",
        "    * (1+i.contributionFee) / fundTotal, None) for i in tcsComp]\n",
        "  \n",
        "  x0 = np.ones(len(tcsComp)) * deltaWeight / len(tcsComp)  # initial weight\n",
        "  \n",
        "  cons = ({'type': 'eq', 'fun': lambda x:  x.sum() - deltaWeight}) # x >= b; b in {0,1} x=0.5\n",
        "  # change of weight\n",
        "          #{'type': 'ineq', 'fun': lambda x: i=0 or i for i in x})\n",
        "  \n",
        "  print(deltaWeight)\n",
        "  result = minimize(obj, x0, args=(currWeight, modelWeight, bnds), method='SLSQP', constraints=cons, bounds=bnds_0, options={'ftol':1e-06})\n",
        "\n",
        "  return result.x, currWeight, modelWeight, (result.x*fundTotal+ fund) / fundTotal, result, result.x * fundTotal\n",
        "\n",
        "def obj(d_cw, currWeight, modelWeight, bnds):\n",
        "    np.set_printoptions(precision=3)\n",
        "    # print('before loop {}, sum is {}'.format(d_cw, d_cw.sum()))\n",
        "    for ind, val in enumerate(d_cw):\n",
        "      if val < 0:\n",
        "        print('error')\n",
        "        _\n",
        "      elif val < bnds[ind][0]/2: \n",
        "        d_cw[ind] = 0\n",
        "        # print('1')\n",
        "      elif val > bnds[ind][0]/2 and val < bnds[ind][0]:\n",
        "        d_cw[ind] = bnds[ind][0]\n",
        "    np.set_printoptions(precision=3)\n",
        "    print('after loop {}, sum is {}'.format(d_cw, d_cw.sum()))\n",
        "    return np.linalg.norm((currWeight+d_cw-modelWeight))**2 "
      ],
      "execution_count": 81,
      "outputs": []
    },
    {
      "cell_type": "code",
      "metadata": {
        "id": "I9C2fbm7bLKz",
        "colab": {
          "base_uri": "https://localhost:8080/",
          "height": 1000
        },
        "outputId": "f8f2afa6-c47b-4a36-ceb1-3606a21ba299"
      },
      "source": [
        "dist, cw, mw, iw, result, investAmt  = investOptim(tcsComp, orderAmt)\n",
        "df = pd.DataFrame([dist, cw, mw, iw, investAmt])\n",
        "df.columns = [i.ticker for i in tcsComp]\n",
        "df.index = ['invest weight', 'original weight', 'model weight', 'invested weight', 'topup amt']\n",
        "df"
      ],
      "execution_count": 82,
      "outputs": [
        {
          "output_type": "stream",
          "text": [
            "0.03522156123092312\n",
            "after loop [0.004 0.004 0.004 0.004 0.004 0.004 0.004 0.004 0.004 0.004], sum is 0.03522156123092312\n",
            "after loop [0.004 0.004 0.004 0.004 0.004 0.004 0.004 0.004 0.004 0.004], sum is 0.03522156123092312\n",
            "after loop [0.004 0.004 0.004 0.004 0.004 0.004 0.004 0.004 0.004 0.004], sum is 0.03522157613208431\n",
            "after loop [0.004 0.004 0.004 0.004 0.004 0.004 0.004 0.004 0.004 0.004], sum is 0.03522157613208431\n",
            "after loop [0.004 0.004 0.004 0.004 0.004 0.004 0.004 0.004 0.004 0.004], sum is 0.03522157613208431\n",
            "after loop [0.004 0.004 0.004 0.004 0.004 0.004 0.004 0.004 0.004 0.004], sum is 0.03522157613208431\n",
            "after loop [0.004 0.004 0.004 0.004 0.004 0.004 0.004 0.004 0.004 0.004], sum is 0.03522157613208431\n",
            "after loop [0.004 0.004 0.004 0.004 0.004 0.004 0.004 0.004 0.004 0.004], sum is 0.03522157613208431\n",
            "after loop [0.004 0.004 0.004 0.004 0.004 0.004 0.004 0.004 0.004 0.004], sum is 0.03522157613208431\n",
            "after loop [0.004 0.004 0.004 0.004 0.004 0.004 0.004 0.004 0.004 0.004], sum is 0.03522157613208431\n",
            "after loop [0.004 0.004 0.004 0.004 0.004 0.004 0.004 0.004 0.004 0.004], sum is 0.03522157613208431\n",
            "after loop [0.004 0.004 0.004 0.004 0.004 0.004 0.004 0.004 0.004 0.004], sum is 0.03522157613208431\n",
            "after loop [0.007 0.    0.    0.    0.    0.    0.    0.    0.028 0.   ], sum is 0.03436123937436802\n",
            "after loop [0.007 0.    0.    0.    0.    0.    0.    0.    0.028 0.   ], sum is 0.03436123937436802\n",
            "after loop [0.007 0.    0.    0.    0.    0.    0.    0.    0.028 0.   ], sum is 0.03436125427552921\n",
            "after loop [0.007 0.    0.    0.    0.    0.    0.    0.    0.028 0.   ], sum is 0.03436123937436802\n",
            "after loop [0.007 0.    0.    0.    0.    0.    0.    0.    0.028 0.   ], sum is 0.03436123937436802\n",
            "after loop [0.007 0.    0.    0.    0.    0.    0.    0.    0.028 0.   ], sum is 0.03436123937436802\n",
            "after loop [0.007 0.    0.    0.    0.    0.    0.    0.    0.028 0.   ], sum is 0.03436123937436802\n",
            "after loop [0.007 0.    0.    0.    0.    0.    0.    0.    0.028 0.   ], sum is 0.03436123937436802\n",
            "after loop [0.007 0.    0.    0.    0.    0.    0.    0.    0.028 0.   ], sum is 0.03436123937436802\n",
            "after loop [0.007 0.    0.    0.    0.    0.    0.    0.    0.028 0.   ], sum is 0.03436123937436802\n",
            "after loop [0.007 0.    0.    0.    0.    0.    0.    0.    0.028 0.   ], sum is 0.03436125427552921\n",
            "after loop [0.007 0.    0.    0.    0.    0.    0.    0.    0.028 0.   ], sum is 0.03436123937436802\n",
            "after loop [0.012 0.002 0.002 0.002 0.    0.    0.002 0.    0.018 0.   ], sum is 0.0365223017155949\n",
            "after loop [0.012 0.002 0.002 0.002 0.    0.    0.002 0.    0.018 0.   ], sum is 0.0365223017155949\n",
            "after loop [0.012 0.002 0.002 0.002 0.    0.    0.002 0.    0.018 0.   ], sum is 0.0365223166167561\n",
            "after loop [0.012 0.002 0.002 0.002 0.    0.    0.002 0.    0.018 0.   ], sum is 0.0365223166167561\n",
            "after loop [0.012 0.002 0.002 0.002 0.    0.    0.002 0.    0.018 0.   ], sum is 0.0365223166167561\n",
            "after loop [0.012 0.002 0.002 0.002 0.    0.    0.002 0.    0.018 0.   ], sum is 0.0365223166167561\n",
            "after loop [0.012 0.002 0.002 0.002 0.    0.    0.002 0.    0.018 0.   ], sum is 0.0365223017155949\n",
            "after loop [0.012 0.002 0.002 0.002 0.    0.    0.002 0.    0.018 0.   ], sum is 0.0365223017155949\n",
            "after loop [0.012 0.002 0.002 0.002 0.    0.    0.002 0.    0.018 0.   ], sum is 0.0365223166167561\n",
            "after loop [0.012 0.002 0.002 0.002 0.    0.    0.002 0.    0.018 0.   ], sum is 0.0365223017155949\n",
            "after loop [0.012 0.002 0.002 0.002 0.    0.    0.002 0.    0.018 0.   ], sum is 0.0365223166167561\n",
            "after loop [0.012 0.002 0.002 0.002 0.    0.    0.002 0.    0.018 0.   ], sum is 0.0365223017155949\n",
            "after loop [0.005 0.004 0.006 0.006 0.    0.    0.005 0.    0.01  0.   ], sum is 0.035221561230923126\n",
            "after loop [0.009 0.002 0.003 0.003 0.    0.    0.003 0.    0.015 0.   ], sum is 0.03601319450167528\n",
            "after loop [0.009 0.002 0.003 0.003 0.    0.    0.003 0.    0.015 0.   ], sum is 0.03601319450167528\n",
            "after loop [0.009 0.002 0.003 0.003 0.    0.    0.003 0.    0.015 0.   ], sum is 0.03601320940283648\n",
            "after loop [0.009 0.002 0.003 0.003 0.    0.    0.003 0.    0.015 0.   ], sum is 0.03601320940283648\n",
            "after loop [0.009 0.002 0.003 0.003 0.    0.    0.003 0.    0.015 0.   ], sum is 0.03601320940283648\n",
            "after loop [0.009 0.002 0.003 0.003 0.    0.    0.003 0.    0.015 0.   ], sum is 0.03601320940283648\n",
            "after loop [0.009 0.002 0.003 0.003 0.    0.    0.003 0.    0.015 0.   ], sum is 0.03601319450167528\n",
            "after loop [0.009 0.002 0.003 0.003 0.    0.    0.003 0.    0.015 0.   ], sum is 0.03601319450167528\n",
            "after loop [0.009 0.002 0.003 0.003 0.    0.    0.003 0.    0.015 0.   ], sum is 0.03601320940283648\n",
            "after loop [0.009 0.002 0.003 0.003 0.    0.    0.003 0.    0.015 0.   ], sum is 0.03601319450167528\n",
            "after loop [0.009 0.002 0.003 0.003 0.    0.    0.003 0.    0.015 0.   ], sum is 0.03601320940283648\n",
            "after loop [0.009 0.002 0.003 0.003 0.    0.    0.003 0.    0.015 0.   ], sum is 0.03601319450167528\n",
            "after loop [0.006 0.002 0.003 0.003 0.    0.    0.003 0.    0.017 0.   ], sum is 0.03522156123092312\n",
            "after loop [0.006 0.002 0.003 0.003 0.    0.    0.003 0.    0.017 0.   ], sum is 0.03522156123092312\n",
            "after loop [0.006 0.002 0.003 0.003 0.    0.    0.003 0.    0.017 0.   ], sum is 0.03522157613208431\n",
            "after loop [0.006 0.002 0.003 0.003 0.    0.    0.003 0.    0.017 0.   ], sum is 0.03522157613208431\n",
            "after loop [0.006 0.002 0.003 0.003 0.    0.    0.003 0.    0.017 0.   ], sum is 0.03522157613208431\n",
            "after loop [0.006 0.002 0.003 0.003 0.    0.    0.003 0.    0.017 0.   ], sum is 0.03522157613208431\n",
            "after loop [0.006 0.002 0.003 0.003 0.    0.    0.003 0.    0.017 0.   ], sum is 0.03522156123092312\n",
            "after loop [0.006 0.002 0.003 0.003 0.    0.    0.003 0.    0.017 0.   ], sum is 0.03522156123092312\n",
            "after loop [0.006 0.002 0.003 0.003 0.    0.    0.003 0.    0.017 0.   ], sum is 0.03522157613208431\n",
            "after loop [0.006 0.002 0.003 0.003 0.    0.    0.003 0.    0.017 0.   ], sum is 0.03522156123092312\n",
            "after loop [0.006 0.002 0.003 0.003 0.    0.    0.003 0.    0.017 0.   ], sum is 0.03522157613208431\n",
            "after loop [0.006 0.002 0.003 0.003 0.    0.    0.003 0.    0.017 0.   ], sum is 0.03522156123092312\n"
          ],
          "name": "stdout"
        },
        {
          "output_type": "execute_result",
          "data": {
            "text/html": [
              "<div>\n",
              "<style scoped>\n",
              "    .dataframe tbody tr th:only-of-type {\n",
              "        vertical-align: middle;\n",
              "    }\n",
              "\n",
              "    .dataframe tbody tr th {\n",
              "        vertical-align: top;\n",
              "    }\n",
              "\n",
              "    .dataframe thead th {\n",
              "        text-align: right;\n",
              "    }\n",
              "</style>\n",
              "<table border=\"1\" class=\"dataframe\">\n",
              "  <thead>\n",
              "    <tr style=\"text-align: right;\">\n",
              "      <th></th>\n",
              "      <th>VTI</th>\n",
              "      <th>DGRO</th>\n",
              "      <th>IWP</th>\n",
              "      <th>VWO</th>\n",
              "      <th>IVW</th>\n",
              "      <th>EFAV</th>\n",
              "      <th>AGG</th>\n",
              "      <th>MUB</th>\n",
              "      <th>PNQI</th>\n",
              "      <th>CASH</th>\n",
              "    </tr>\n",
              "  </thead>\n",
              "  <tbody>\n",
              "    <tr>\n",
              "      <th>invest weight</th>\n",
              "      <td>0.006301</td>\n",
              "      <td>0.002381</td>\n",
              "      <td>0.003268</td>\n",
              "      <td>0.003272</td>\n",
              "      <td>0.000000</td>\n",
              "      <td>0.000000</td>\n",
              "      <td>0.002675</td>\n",
              "      <td>0.000000</td>\n",
              "      <td>0.017325</td>\n",
              "      <td>0.000000</td>\n",
              "    </tr>\n",
              "    <tr>\n",
              "      <th>original weight</th>\n",
              "      <td>0.250556</td>\n",
              "      <td>0.214753</td>\n",
              "      <td>0.023665</td>\n",
              "      <td>0.023662</td>\n",
              "      <td>0.023398</td>\n",
              "      <td>0.099709</td>\n",
              "      <td>0.104351</td>\n",
              "      <td>0.198248</td>\n",
              "      <td>0.000021</td>\n",
              "      <td>0.026416</td>\n",
              "    </tr>\n",
              "    <tr>\n",
              "      <th>model weight</th>\n",
              "      <td>0.260000</td>\n",
              "      <td>0.220000</td>\n",
              "      <td>0.030000</td>\n",
              "      <td>0.030000</td>\n",
              "      <td>0.020000</td>\n",
              "      <td>0.100000</td>\n",
              "      <td>0.110000</td>\n",
              "      <td>0.190000</td>\n",
              "      <td>0.020000</td>\n",
              "      <td>0.020000</td>\n",
              "    </tr>\n",
              "    <tr>\n",
              "      <th>invested weight</th>\n",
              "      <td>0.256857</td>\n",
              "      <td>0.217134</td>\n",
              "      <td>0.026933</td>\n",
              "      <td>0.026934</td>\n",
              "      <td>0.023398</td>\n",
              "      <td>0.099709</td>\n",
              "      <td>0.107026</td>\n",
              "      <td>0.198248</td>\n",
              "      <td>0.017346</td>\n",
              "      <td>0.026416</td>\n",
              "    </tr>\n",
              "    <tr>\n",
              "      <th>topup amt</th>\n",
              "      <td>17.890389</td>\n",
              "      <td>6.759399</td>\n",
              "      <td>9.277402</td>\n",
              "      <td>9.288970</td>\n",
              "      <td>0.000000</td>\n",
              "      <td>0.000000</td>\n",
              "      <td>7.595080</td>\n",
              "      <td>0.000000</td>\n",
              "      <td>49.188760</td>\n",
              "      <td>0.000000</td>\n",
              "    </tr>\n",
              "  </tbody>\n",
              "</table>\n",
              "</div>"
            ],
            "text/plain": [
              "                       VTI      DGRO       IWP  ...       MUB       PNQI      CASH\n",
              "invest weight     0.006301  0.002381  0.003268  ...  0.000000   0.017325  0.000000\n",
              "original weight   0.250556  0.214753  0.023665  ...  0.198248   0.000021  0.026416\n",
              "model weight      0.260000  0.220000  0.030000  ...  0.190000   0.020000  0.020000\n",
              "invested weight   0.256857  0.217134  0.026933  ...  0.198248   0.017346  0.026416\n",
              "topup amt        17.890389  6.759399  9.277402  ...  0.000000  49.188760  0.000000\n",
              "\n",
              "[5 rows x 10 columns]"
            ]
          },
          "metadata": {
            "tags": []
          },
          "execution_count": 82
        }
      ]
    },
    {
      "cell_type": "code",
      "metadata": {
        "colab": {
          "base_uri": "https://localhost:8080/"
        },
        "id": "0APb-50pJ41j",
        "outputId": "4e387374-04c9-4c01-cdc2-39e4e662b151"
      },
      "source": [
        "np.sum(df.T['topup amt'])"
      ],
      "execution_count": 78,
      "outputs": [
        {
          "output_type": "execute_result",
          "data": {
            "text/plain": [
              "100.0"
            ]
          },
          "metadata": {
            "tags": []
          },
          "execution_count": 78
        }
      ]
    },
    {
      "cell_type": "code",
      "metadata": {
        "id": "0KuvU6IookoM"
      },
      "source": [
        "def investOptimNew(tcsComp, orderAmt):\n",
        "  fund = np.asarray([float(i.value) for i in tcsComp]) #[spy, ivv, ...]\n",
        "  fundTotal = fund.sum() + orderAmt # total funding after topup\n",
        "  currWeight = fund / fundTotal # 0.8, 0.2\n",
        "  modelWeight = np.asarray([float(i.weight) for i in tcsComp])\n",
        "\n",
        "  deltaWeight = orderAmt / fundTotal # scalar\n",
        "\n",
        "  lb_cons= [np.max([i.minTopupAmt, i.marketprice * i.minTopupUnits, i.minInitialInvestmentAmt * (i.value==0)]) * \n",
        "            (1+i.contributionFee)  for i in tcsComp]\n",
        "            \n",
        "  x0 = np.ones(len(tcsComp)) * deltaWeight / len(tcsComp)  # initial weight\n",
        "  y0 = np.zeros(len(tcsComp))\n",
        "\n",
        "  return disj(len(tcsComp), lb_cons, modelWeight, currWeight, deltaWeight)"
      ],
      "execution_count": null,
      "outputs": []
    },
    {
      "cell_type": "code",
      "metadata": {
        "id": "K90sSVlil7iF"
      },
      "source": [
        "def disj(n, bnds, mw, cw, dw):\n",
        "  m = ConcreteModel()\n",
        "  print(dw)\n",
        "  m.x = Var(RangeSet(n), bounds=(0,dw))\n",
        "  # m.c = Constraint(expr= np.sum(m.x)==dw)\n",
        "  m.d = Disjunct(RangeSet(n*2)) # disjunctive constraints initialize\n",
        "  m.ds = Disjunction(RangeSet(n+1))\n",
        "  m.ds[n+1] = [Constraint(expr= np.sum(m.x)==dw), Constraint(expr= np.sum(m.x)==dw)]\n",
        "\n",
        "  for i in range(1, n+1):\n",
        "    m.ds[i] = [m.d[i], m.d[i+n]]\n",
        "    setattr(m.d[i],'c', Constraint(expr= m.x[i]==0)) # x=0\n",
        "  for i in range(n+1, n*2+1):\n",
        "    setattr(m.d[i],'c', Constraint(expr = m.x[i-n]>=bnds[i-n-1])) # x>= b\n",
        "\n",
        "  m.o = Objective(expr=np.linalg.norm(cw + m.x - mw))\n",
        "  opt = SolverFactory('glpk', executable='/usr/bin/glpsol')\n",
        "  res = opt.solve(m)\n",
        "  return res, m"
      ],
      "execution_count": null,
      "outputs": []
    },
    {
      "cell_type": "code",
      "metadata": {
        "colab": {
          "base_uri": "https://localhost:8080/"
        },
        "id": "tzHUpDUaN3ta",
        "outputId": "03280c38-7763-4d3d-d99a-35c815321fe5"
      },
      "source": [
        "res, m = investOptimNew(tcsComp, orderAmt)\n",
        "\n",
        "# df = pd.DataFrame([dist, cw, mw, iw, investAmt])\n",
        "# df.columns = [i.ticker for i in tcsComp]\n",
        "# df.index = ['invest weight', 'original weight', 'model weight', 'invested weight', 'topup amt']\n",
        "# df\n"
      ],
      "execution_count": null,
      "outputs": [
        {
          "output_type": "stream",
          "text": [
            "0.03522156123092312\n",
            "WARNING: Constant objective detected, replacing with a placeholder to prevent\n",
            "    solver failure.\n",
            "WARNING: Empty constraint block written in LP format - solver may error\n"
          ],
          "name": "stdout"
        }
      ]
    },
    {
      "cell_type": "code",
      "metadata": {
        "id": "wl4F3Giuyf0q"
      },
      "source": [
        "m.pprint()"
      ],
      "execution_count": null,
      "outputs": []
    },
    {
      "cell_type": "code",
      "metadata": {
        "colab": {
          "base_uri": "https://localhost:8080/"
        },
        "id": "iz3Y1m3XeWrU",
        "outputId": "3269ee4d-a0f8-4908-807d-927b18f28bc2"
      },
      "source": [
        "for i in m.x: print(m.x[i].value)"
      ],
      "execution_count": null,
      "outputs": [
        {
          "output_type": "stream",
          "text": [
            "None\n",
            "None\n",
            "None\n",
            "None\n",
            "None\n",
            "None\n",
            "None\n",
            "None\n",
            "None\n",
            "None\n"
          ],
          "name": "stdout"
        }
      ]
    },
    {
      "cell_type": "code",
      "metadata": {
        "colab": {
          "base_uri": "https://localhost:8080/"
        },
        "id": "ZHl8pr0p8GL0",
        "outputId": "9ee3b865-1a08-4464-a113-94f614855b93"
      },
      "source": [
        "res.write()\n",
        "# res.read()\n",
        "res.values()"
      ],
      "execution_count": null,
      "outputs": [
        {
          "output_type": "stream",
          "text": [
            "# ==========================================================\n",
            "# = Solver Results                                         =\n",
            "# ==========================================================\n",
            "# ----------------------------------------------------------\n",
            "#   Problem Information\n",
            "# ----------------------------------------------------------\n",
            "Problem: \n",
            "- Name: unknown\n",
            "  Lower bound: 19.6143882427145\n",
            "  Upper bound: 19.6143882427145\n",
            "  Number of objectives: 1\n",
            "  Number of constraints: 1\n",
            "  Number of variables: 1\n",
            "  Number of nonzeros: 1\n",
            "  Sense: minimize\n",
            "# ----------------------------------------------------------\n",
            "#   Solver Information\n",
            "# ----------------------------------------------------------\n",
            "Solver: \n",
            "- Status: ok\n",
            "  Termination condition: optimal\n",
            "  Statistics: \n",
            "    Branch and bound: \n",
            "      Number of bounded subproblems: 0\n",
            "      Number of created subproblems: 0\n",
            "  Error rc: 0\n",
            "  Time: 0.01635146141052246\n",
            "# ----------------------------------------------------------\n",
            "#   Solution Information\n",
            "# ----------------------------------------------------------\n",
            "Solution: \n",
            "- number of solutions: 0\n",
            "  number of solutions displayed: 0\n"
          ],
          "name": "stdout"
        },
        {
          "output_type": "execute_result",
          "data": {
            "text/plain": [
              "dict_values([<pyomo.opt.results.container.ListContainer object at 0x7f52cf188d10>, <pyomo.opt.results.container.ListContainer object at 0x7f52cb6f8ed0>, <pyomo.opt.results.solution.SolutionSet object at 0x7f52cb6f8890>])"
            ]
          },
          "metadata": {
            "tags": []
          },
          "execution_count": 99
        }
      ]
    },
    {
      "cell_type": "code",
      "metadata": {
        "colab": {
          "base_uri": "https://localhost:8080/"
        },
        "id": "1rrd9Isa-_Nd",
        "outputId": "1d89ab6c-2ec4-4edd-c681-c4fb057dd587"
      },
      "source": [
        "np.linalg.norm(df.T['invested weight']-df.T['model weight'])"
      ],
      "execution_count": null,
      "outputs": [
        {
          "output_type": "execute_result",
          "data": {
            "text/plain": [
              "0.06369722001117574"
            ]
          },
          "metadata": {
            "tags": []
          },
          "execution_count": 31
        }
      ]
    },
    {
      "cell_type": "code",
      "metadata": {
        "id": "1SCxp-E2i1IT"
      },
      "source": [
        "df_new \n",
        "# all invest : 0 - 10e8; finite\n",
        "# 0-5, ind = inf + obj"
      ],
      "execution_count": null,
      "outputs": []
    },
    {
      "cell_type": "code",
      "metadata": {
        "id": "n7Jf6ylKcJcw"
      },
      "source": [
        "# sort out the effective tickers, whose topup amt > low bound\n",
        "title = df.columns\n",
        "effTcs = tcsComp.copy()\n",
        "for ind, val in enumerate(df.T['topup amt']):\n",
        "  if val < 10e-8:# and cw[ind] >= mw[ind]:\n",
        "    [ effTcs.remove(i) for i in effTcs if i.ticker==title[ind] ]"
      ],
      "execution_count": null,
      "outputs": []
    },
    {
      "cell_type": "code",
      "metadata": {
        "colab": {
          "base_uri": "https://localhost:8080/"
        },
        "id": "A-GLMetTtBiU",
        "outputId": "8e6cee11-91e6-4371-c921-dd881559fa0e"
      },
      "source": [
        "df_new.T['invested weight'].values"
      ],
      "execution_count": null,
      "outputs": [
        {
          "output_type": "execute_result",
          "data": {
            "text/plain": [
              "array([0.25703033, 0.21707263, 0.02702076, 0.02702077, 0.02339768,\n",
              "       0.09970872, 0.10701874, 0.19824808, 0.01706611, 0.02641617])"
            ]
          },
          "metadata": {
            "tags": []
          },
          "execution_count": 21
        }
      ]
    },
    {
      "cell_type": "code",
      "metadata": {
        "id": "WHUJqcPSRZFo"
      },
      "source": [
        "fund = np.asarray([float(i.value) for i in effTcs]) #[spy, ivv, ...]\n",
        "fundTotal = np.asarray([float(i.value) for i in tcsComp]).sum() + orderAmt # total funding after topup\n",
        "currWeight = fund / fundTotal # 0.8, 0.2\n",
        "modelWeight = np.asarray([float(i.weight) for i in effTcs])\n",
        "\n",
        "deltaWeight = orderAmt / fundTotal # scalar\n",
        "\n",
        "bnds = [(np.max([i.minTopupAmt, i.marketprice * i.minTopupUnits, i.minInitialInvestmentAmt * (i.value==0)]) \n",
        "* (1+i.contributionFee) / fundTotal, None) for i in effTcs]    \n",
        "\n",
        "x0 = np.ones(len(effTcs)) * deltaWeight / len(effTcs)  # initial weight\n",
        "\n",
        "cons = ({'type': 'eq', 'fun': lambda x:  x.sum() - deltaWeight})\n",
        "\n",
        "result = minimize(obj, x0, args=(currWeight, modelWeight), method='SLSQP', constraints=cons, bounds=bnds)\n",
        "\n",
        "new_dist, new_weight, new_topup = result.x, (result.x*fundTotal+ fund) / fundTotal, result.x * fundTotal\n"
      ],
      "execution_count": null,
      "outputs": []
    },
    {
      "cell_type": "code",
      "metadata": {
        "colab": {
          "base_uri": "https://localhost:8080/"
        },
        "id": "RUUkiFPuhHDH",
        "outputId": "6cd287ad-76fc-472c-b2b2-8eda9ad9263b"
      },
      "source": [
        "tcsNew = [i.ticker for i in effTcs]\n",
        "df_new = df.copy()\n",
        "for ind, i in enumerate(tcsNew):\n",
        "  df_new.xs('invest weight')[i] = new_dist[ind]\n",
        "  df_new.xs('invested weight')[i] = new_weight[ind]\n",
        "  df_new.xs('topup amt')[i] = new_topup[ind]\n",
        "# df_new['VTI': 'invest weight']\n",
        "df_new\n",
        "np.linalg.norm((df_new.T['invested weight'].values-mw)), np.linalg.norm((iw-mw))"
      ],
      "execution_count": null,
      "outputs": [
        {
          "output_type": "execute_result",
          "data": {
            "text/plain": [
              "(0.013170529565477925, 0.016092200091184422)"
            ]
          },
          "metadata": {
            "tags": []
          },
          "execution_count": 16
        }
      ]
    },
    {
      "cell_type": "code",
      "metadata": {
        "colab": {
          "base_uri": "https://localhost:8080/"
        },
        "id": "ZFMvPtHEa_vr",
        "outputId": "0e13be9a-dfa5-45ba-f078-fba6ed51b741"
      },
      "source": [
        "np.sum(df_new.T['invested weight'])"
      ],
      "execution_count": null,
      "outputs": [
        {
          "output_type": "execute_result",
          "data": {
            "text/plain": [
              "1.0"
            ]
          },
          "metadata": {
            "tags": []
          },
          "execution_count": 17
        }
      ]
    },
    {
      "cell_type": "code",
      "metadata": {
        "colab": {
          "base_uri": "https://localhost:8080/"
        },
        "id": "4H7kqsGsrmwm",
        "outputId": "8af8ba7f-c9d4-4762-8071-8231f64d7ebe"
      },
      "source": [
        "fund = np.asarray([float(i.value) for i in tcsComp])\n",
        "dist * (orderAmt + fund.sum())"
      ],
      "execution_count": null,
      "outputs": [
        {
          "output_type": "execute_result",
          "data": {
            "text/plain": [
              "array([1.55752023e+01, 5.00000000e+00, 6.69970951e+00, 6.70595933e+00,\n",
              "       5.00000000e+00, 5.00000000e+00, 5.00000000e+00, 5.00000000e+00,\n",
              "       4.60091289e+01, 1.00000000e-02])"
            ]
          },
          "metadata": {
            "tags": []
          },
          "execution_count": 20
        }
      ]
    },
    {
      "cell_type": "code",
      "metadata": {
        "id": "H9eWyWrOSZde"
      },
      "source": [
        "def redempOptim(tcsComp, orderAmt):\n",
        "  fund = np.asarray([float(i.value) for i in tcsComp]) #[spy, ivv, ...]\n",
        "  fundTotal = fund.sum() - orderAmt # total funding after topup\n",
        "  currWeight = fund / fundTotal # \n",
        "  modelWeight = np.asarray([float(i.weight) for i in tcsComp])\n",
        "\n",
        "  deltaWeight = orderAmt / fundTotal # scalar \n",
        "\n",
        "  # [spy, ivv, ...]\n",
        "\n",
        "  bnds = [(np.max([i.minRedemptionAmt, i.marketprice * i.minRedemptionUnits]) * (1+i.contributionFee)\n",
        "  / fundTotal, None) for i in tcsComp]\n",
        "\n",
        "  x0 = np.ones(len(tcsComp)) * deltaWeight / len(tcsComp) # initial weight\n",
        "\n",
        "  cons = ({'type': 'eq', 'fun': lambda x:  x.sum() - deltaWeight})\n",
        "  \n",
        "  result = minimize(obj, x0, args=(currWeight, modelWeight), method='SLSQP', constraints=cons, bounds=bnds)\n",
        "\n",
        "  return result.x, currWeight, modelWeight, (result.x*(fund.sum() + orderAmt) + fund) / (fund.sum() + orderAmt), result\n",
        "\n",
        "def obj2(d_cw, currWeight, modelWeight):\n",
        "    return np.linalg.norm((currWeight-d_cw-modelWeight))**2"
      ],
      "execution_count": null,
      "outputs": []
    },
    {
      "cell_type": "code",
      "metadata": {
        "id": "HT3hJFdGYD_C"
      },
      "source": [
        "result.x.sum(), result.fun"
      ],
      "execution_count": null,
      "outputs": []
    },
    {
      "cell_type": "code",
      "metadata": {
        "colab": {
          "base_uri": "https://localhost:8080/"
        },
        "id": "3SmTr8zsTtbH",
        "outputId": "9ff2928f-1a8e-49a9-ebd5-7f3876d26f35"
      },
      "source": [
        "redemp = 1000\n",
        "dist, cw, mw, iw, res  = redempOptim(tcsComp, redemp)\n",
        "dist, cw, mw, iw\n",
        "print('redemp weight is {}'.format(dist))\n",
        "print('original weight is {}'.format(cw))\n",
        "print('model weight is {}'.format(mw))\n",
        "print('redempted weight is {}'.format(iw))\n",
        "print('redemption amount in each ticker is {}'.format(dist*(orderAmt+np.sum(fund))))"
      ],
      "execution_count": null,
      "outputs": [
        {
          "output_type": "stream",
          "text": [
            "redemp weight is [0.00287493 0.00287493 0.09536389 0.09536966 0.08576777 0.04150911\n",
            " 0.04346685 0.00287493 0.12406176 0.08082308]\n",
            "original weight is [4.09028445e-01 3.50581024e-01 3.86333711e-02 3.86276212e-02\n",
            " 3.81963810e-02 1.62773047e-01 1.70351375e-01 3.23637137e-01\n",
            " 3.44992151e-05 4.31240189e-02]\n",
            "model weight is [0.26 0.22 0.03 0.03 0.02 0.1  0.11 0.19 0.02 0.02]\n",
            "redempted weight is [0.19312304 0.16593786 0.11333312 0.11333621 0.10353375 0.11721843\n",
            " 0.12270101 0.15340567 0.1240778  0.100881  ]\n",
            "redemption amount in each ticker is [  36.62428055   36.62428055 1214.85678439 1214.93027271 1092.61023393\n",
            "  528.79163917  553.73162054   36.62428055 1580.44380631 1029.61891082]\n"
          ],
          "name": "stdout"
        }
      ]
    },
    {
      "cell_type": "code",
      "metadata": {
        "colab": {
          "base_uri": "https://localhost:8080/"
        },
        "id": "qSd_ZCHDxBIH",
        "outputId": "c7163aa4-6a57-4fb6-82c1-44e5bea45d56"
      },
      "source": [
        "print(np.linalg.norm(iw-mw))"
      ],
      "execution_count": null,
      "outputs": [
        {
          "output_type": "stream",
          "text": [
            "7.246549845122477e-05\n"
          ],
          "name": "stdout"
        }
      ]
    },
    {
      "cell_type": "code",
      "metadata": {
        "id": "uWmj-WTJ2CaO",
        "colab": {
          "base_uri": "https://localhost:8080/"
        },
        "outputId": "4183b7ec-aa7f-463e-e724-fe3b84a32414"
      },
      "source": [
        "dist*(orderAmt+np.sum(fund))"
      ],
      "execution_count": null,
      "outputs": [
        {
          "output_type": "execute_result",
          "data": {
            "text/plain": [
              "array([63695.85      , 63695.85      , 63695.85      , 63695.85      ,\n",
              "       63695.85      , 63695.85      , 63695.85      , 63695.85      ,\n",
              "       63695.85      ,   127.39170001])"
            ]
          },
          "metadata": {
            "tags": []
          },
          "execution_count": 21
        }
      ]
    },
    {
      "cell_type": "code",
      "metadata": {
        "id": "QM0FDBG6i8k4"
      },
      "source": [
        ""
      ],
      "execution_count": null,
      "outputs": []
    }
  ]
}